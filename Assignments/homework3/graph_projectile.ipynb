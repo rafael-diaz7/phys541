{
 "cells": [
  {
   "cell_type": "code",
   "execution_count": 1,
   "metadata": {
    "ExecuteTime": {
     "end_time": "2023-10-06T23:32:13.942896Z",
     "start_time": "2023-10-06T23:32:12.525725Z"
    }
   },
   "outputs": [],
   "source": [
    "from array import array\n",
    "import numpy as np\n",
    "import math"
   ]
  },
  {
   "cell_type": "markdown",
   "source": [
    "# Projectile Motion with Air Resistance\n",
    "\n",
    "Projectile motion in two dimensions is governed by a fairly simple set of coupled differential equations:\n",
    "\n",
    "The acceleration components are defined as:\n",
    "\n",
    "$$ a_x(t) = \\frac{F_x(t)}{m} = \\frac{d v_x(t)}{dt}$$\n",
    "$$ a_y(t) = \\frac{F_y(t)}{m} = \\frac{d v_y(t)}{dt}$$\n",
    "\n",
    "The velocity components are defined as:\n",
    "\n",
    "$$ v_x(t) = \\frac{d x(t)}{dt}$$\n",
    "$$ v_y(t) = \\frac{d y(t)}{dt}$$\n",
    "\n",
    "In the previous example, with no air resistance, we saw that for these differential equations, the midpoint method gave the most accurate numerical answers, for a given timestep.  We will use the midpoint method again here, but we will need to modify the acceleration components to include the effects of air resistance.  The force of air resistance is given by:\n",
    "\n",
    "$$ F_{air} = -\\frac{1}{2} C_d \\rho A v^2 $$\n",
    "\n",
    "where $C_d$ is the drag coefficient, $\\rho$ is the density of air, $A$ is the cross-sectional area of the projectile, and $v$ is the magnitude of the velocity of the projectile.  The direction of the force is opposite the direction of the velocity.  The acceleration components are then:\n",
    "\n",
    "$$ a_x(t) = \\frac{F_x(t)}{m} = \\frac{d v_x(t)}{dt} = -\\frac{1}{2} C_d \\rho A \\frac{v_x(t)}{m} v(t)$$\n",
    "$$ a_y(t) = \\frac{F_y(t)}{m} = \\frac{d v_y(t)}{dt} = -\\frac{1}{2} C_d \\rho A \\frac{v_y(t)}{m} v(t) - g$$\n",
    "\n",
    "where $g$ is the acceleration due to gravity.  We can simplify these equations by defining a constant:\n",
    "\n",
    "$$ k = -\\frac{1}{2} C_d \\rho A \\frac{1}{m}$$\n",
    "\n",
    "and then the acceleration components become:\n",
    "\n",
    "$$ a_x(t) = \\frac{d v_x(t)}{dt} = k v(t) v_x(t)$$\n",
    "$$ a_y(t) = \\frac{d v_y(t)}{dt} = k v(t) v_y(t) - g$$\n",
    "\n",
    "We can then use the midpoint method to solve these differential equations.\n",
    "\n",
    "As before, we will always need to know a set of initial conditions:  the initial velocity in the x- and y-directions, and the initial position in the x- and y-directions:  $v_x(0) = v_{x0}, v_y(0) = v_{y0}, x(0) = x_0, y(0) = y_0$"
   ],
   "metadata": {
    "collapsed": false
   }
  },
  {
   "cell_type": "code",
   "execution_count": 8,
   "metadata": {
    "ExecuteTime": {
     "end_time": "2023-10-06T23:55:58.180543Z",
     "start_time": "2023-10-06T23:55:58.143309Z"
    }
   },
   "outputs": [],
   "source": [
    "def calc_max_range(speed, theta, y1):\n",
    "    # block 1\n",
    "    # Initial Conditions\n",
    "    \n",
    "    \n",
    "    # Other constants - golf ball - D = 0.0427m, m = 0.04593kg\n",
    "    Cd = 0.20 # drag coefficient\n",
    "    area = 0.001432 # cross sectional area of projectile\n",
    "    grav = 9.81 # gravitional acceleration\n",
    "    mass = 0.04593 # mass in kg\n",
    "    rho = 1.225 # density of air (kg/m^3)\n",
    "    air_const = -0.5*Cd*rho*area/mass\n",
    "    Pi = math.pi\n",
    "    \n",
    "    # block 2\n",
    "    r1 = array('d')\n",
    "    v1 = array('d')\n",
    "    r = array('d')\n",
    "    v = array('d')\n",
    "    accel = array('d')\n",
    "    \n",
    "    r1.append(0)\n",
    "    r1.append(y1)\n",
    "    v1.append(speed*math.cos(theta*Pi/180.0))\n",
    "    v1.append(speed*math.sin(theta*Pi/180.0))\n",
    "    \n",
    "    r.append(r1[0])\n",
    "    r.append(r1[1])\n",
    "    v.append(v1[0])\n",
    "    v.append(v1[1])\n",
    "    accel.append(0)\n",
    "    accel.append(0)\n",
    "    \n",
    "    # block 3\n",
    "    # Setup arrays for Euler and Euler-Cromer Methods\n",
    "    re = array('d')\n",
    "    ve = array('d')\n",
    "    accele = array('d')\n",
    "    \n",
    "    re.append(r1[0])\n",
    "    re.append(r1[1])\n",
    "    ve.append(v1[0])\n",
    "    ve.append(v1[1])\n",
    "    accele.append(0)\n",
    "    accele.append(0)\n",
    "    \n",
    "    rec = array('d')\n",
    "    vec = array('d')\n",
    "    accelec = array('d')\n",
    "    \n",
    "    rec.append(r1[0])\n",
    "    rec.append(r1[1])\n",
    "    vec.append(v1[0])\n",
    "    vec.append(v1[1])\n",
    "    accelec.append(0)\n",
    "    accelec.append(0)\n",
    "    \n",
    "    # block 4\n",
    "    tau = 0.02 # timestep in seconds\n",
    "    maxStep = 1000000 # maximum number of steps\n",
    "    \n",
    "    xplot = array('d')\n",
    "    yplot = array('d')\n",
    "    xplote = array('d')\n",
    "    yplote = array('d')\n",
    "    xplotec = array('d')\n",
    "    yplotec = array('d')\n",
    "    xNoAir = array('d')\n",
    "    yNoAir = array('d')\n",
    "    time = array('d')\n",
    "    timee = array('d')\n",
    "    timeec = array('d')\n",
    "    timeNoAir = array('d')\n",
    "    \n",
    "    # block 5\n",
    "    endtime = 0\n",
    "    nelements = 0\n",
    "    for iStep in range(1,maxStep+1):\n",
    "        \n",
    "        t = (iStep-1)*tau\n",
    "            \n",
    "        xplot.append(r[0])\n",
    "        yplot.append(r[1])\n",
    "        xplote.append(re[0])\n",
    "        yplote.append(re[1])\n",
    "        xplotec.append(rec[0])\n",
    "        yplotec.append(rec[1])\n",
    "        xNoAir.append(r1[0]+v1[0]*t)\n",
    "        yNoAir.append(r1[1]+v1[1]*t-0.5*grav*t*t)\n",
    "        \n",
    "        timeNoAir.append(t)\n",
    "        time.append(t)\n",
    "        timee.append(t)\n",
    "        timeec.append(t)\n",
    "        \n",
    "        # Euler Method\n",
    "        normVe = math.sqrt(ve[0]*ve[0]+ve[1]*ve[1])\n",
    "        accele[0]=air_const*normVe*ve[0]\n",
    "        accele[1]=air_const*normVe*ve[1]-grav\n",
    "        re[0] = re[0] + tau*ve[0]\n",
    "        re[1] = re[1] + tau*ve[1]\n",
    "        ve[0] = ve[0] + tau*accele[0]\n",
    "        ve[1] = ve[1] + tau*accele[1]\n",
    "        \n",
    "        # Euler-Cromer Method\n",
    "        normVec = math.sqrt(vec[0]*vec[0]+vec[1]*vec[1])\n",
    "        accelec[0]=air_const*normVec*vec[0]\n",
    "        accelec[1]=air_const*normVec*vec[1]-grav\n",
    "        vec[0] = vec[0] + tau*accelec[0]\n",
    "        vec[1] = vec[1] + tau*accelec[1]    \n",
    "        rec[0] = rec[0] + tau*vec[0]\n",
    "        rec[1] = rec[1] + tau*vec[1]\n",
    "        \n",
    "        # MidPoint Method\n",
    "        normV = math.sqrt(v[0]*v[0]+v[1]*v[1])\n",
    "        accel[0]=air_const*normV*v[0]\n",
    "        accel[1]=air_const*normV*v[1]-grav\n",
    "        vxnew = v[0] + tau*accel[0]\n",
    "        vynew = v[1] + tau*accel[1]\n",
    "        r[0] = r[0] + tau*(v[0] + vxnew)/2.0\n",
    "        r[1] = r[1] + tau*(v[1] + vynew)/2.0\n",
    "        v[0] = vxnew\n",
    "        v[1] = vynew    \n",
    "        \n",
    "        #print (\"x = %f     vx = %f    ax = %f\" %(r[0],v[0],accel[0]))\n",
    "        #print (\"y = %f     vy = %f    ay = %f\" %(r[1],v[1],accel[1]))\n",
    "        \n",
    "        if (r[1] < 0 and v[1] < 0):\n",
    "            xplot.append(r[0])\n",
    "            yplot.append(r[1])\n",
    "            xplote.append(re[0])\n",
    "            yplote.append(re[1])\n",
    "            xplotec.append(rec[0])\n",
    "            yplotec.append(rec[1])\n",
    "            time.append(tau*iStep)\n",
    "            timee.append(tau*iStep)\n",
    "            timeec.append(tau*iStep)\n",
    "            endtime = tau*iStep\n",
    "            nelements = iStep\n",
    "            break\n",
    "    \n",
    "    max_range = r[0]\n",
    "    theory_max = (speed*speed/grav*math.sin(2.0*theta*Pi*180.0))\n",
    "    \n",
    "    return max_range, theory_max\n",
    "            \n",
    "    # print (\"Maximum range is %f meters.\" % max_range)\n",
    "    # print (\"Theory maximum range is %f meters.\" % theory_max)\n",
    "    # print (\" \")\n",
    "    # \n",
    "    # print (\"Time of flight is %f seconds.\" % endtime)\n",
    "    # print (\"Theory time of flight is %f seconds.\" % (2.0*speed/grav*math.sin(theta*Pi/180.0)))\n",
    "    # print (\" \")\n",
    "    # \n",
    "    # max_y = np.amax(yNoAir)+1\n",
    "    # max_x = np.amax(xNoAir)+1\n",
    "    # max_t = np.amax(time)+1\n",
    "    # \n",
    "    # print (\"Max y = %f\" % max_y)\n",
    "    # print (\"Theory Max y = %f\" % (speed*speed/(2.0*grav)*math.pow(math.sin(theta*Pi/180.0),2)))\n",
    "    # print (\" \")\n",
    "    # \n",
    "    # \n",
    "    # print (\"Number of elements = %d\" % nelements)\n"
   ]
  },
  {
   "cell_type": "markdown",
   "source": [
    "### Changing from finding max distance with given angle to find angle with the best distance.\n",
    "\n",
    "1. Put all current code in a function with with parameter theta\n",
    "2. return max distance & theory distance \n",
    "3. iterate from 0 - 90 in steps of 1 or 0.5 and call function\n",
    "4. place tuple in list (theta, max_distance, max_theory)\n",
    "5. lambda to sort list by distances and output the top two"
   ],
   "metadata": {
    "collapsed": false
   }
  },
  {
   "cell_type": "code",
   "execution_count": 18,
   "outputs": [],
   "source": [
    "def calc_best_dist(speed, y0):\n",
    "    results = []\n",
    "    best_distance = best_theory = float(\"-inf\")\n",
    "    key_distance = key_theory = -1\n",
    "    for theta in range(0, 90):\n",
    "        dist, theory = calc_max_range(speed, theta, y0)\n",
    "        results.append((theta, dist, theory))\n",
    "        if dist > best_distance:\n",
    "            key_distance = theta\n",
    "            best_distance = dist\n",
    "        if theory > best_theory:\n",
    "            key_theory = theta\n",
    "            best_theory = theory\n",
    "    print(f\"Best distance of {best_distance} at a launch angle of {key_distance} degrees\\n\"\n",
    "          f\"Best theory distance of {best_theory} at a launch angle of {key_theory} degrees\")\n",
    "    return results\n",
    "\n",
    "# what's going on with the theory distance?\n",
    "    "
   ],
   "metadata": {
    "collapsed": false,
    "ExecuteTime": {
     "end_time": "2023-10-07T00:33:56.651187Z",
     "start_time": "2023-10-07T00:33:56.633652Z"
    }
   }
  },
  {
   "cell_type": "markdown",
   "source": [
    "## 1.a. Calculate the angle for the max range for a golf ball launched at 55.8 m/s at yi = 0"
   ],
   "metadata": {
    "collapsed": false
   }
  },
  {
   "cell_type": "code",
   "execution_count": 22,
   "outputs": [
    {
     "name": "stdout",
     "output_type": "stream",
     "text": [
      "Best distance of 174.71161458527914 at a launch angle of 39 degrees\n",
      "Best theory distance of 2.837247349605734e-09 at a launch angle of 68 degrees\n"
     ]
    }
   ],
   "source": [
    "res_golf = calc_best_dist(55.8, 0)"
   ],
   "metadata": {
    "collapsed": false,
    "ExecuteTime": {
     "end_time": "2023-10-07T00:35:46.010161Z",
     "start_time": "2023-10-07T00:35:45.847132Z"
    }
   }
  },
  {
   "cell_type": "markdown",
   "source": [
    "## 1.b. Calculate best angle for baseball at speed of 100mph at an initial height of 1m"
   ],
   "metadata": {
    "collapsed": false
   }
  },
  {
   "cell_type": "code",
   "execution_count": 23,
   "outputs": [
    {
     "name": "stdout",
     "output_type": "stream",
     "text": [
      "Best distance of 132.6129598973876 at a launch angle of 42 degrees\n",
      "Best theory distance of 1.820270319677113e-09 at a launch angle of 68 degrees\n"
     ]
    }
   ],
   "source": [
    "mph = 100\n",
    "ms = 100 * 1609 / 3600\n",
    "res_bball = calc_best_dist(ms, 1)"
   ],
   "metadata": {
    "collapsed": false,
    "ExecuteTime": {
     "end_time": "2023-10-07T00:35:47.319664Z",
     "start_time": "2023-10-07T00:35:47.185781Z"
    }
   }
  },
  {
   "cell_type": "code",
   "execution_count": null,
   "outputs": [],
   "source": [],
   "metadata": {
    "collapsed": false
   }
  }
 ],
 "metadata": {
  "kernelspec": {
   "display_name": "Python 3",
   "language": "python",
   "name": "python3"
  },
  "language_info": {
   "codemirror_mode": {
    "name": "ipython",
    "version": 3
   },
   "file_extension": ".py",
   "mimetype": "text/x-python",
   "name": "python",
   "nbconvert_exporter": "python",
   "pygments_lexer": "ipython3",
   "version": "3.6.8"
  }
 },
 "nbformat": 4,
 "nbformat_minor": 2
}
